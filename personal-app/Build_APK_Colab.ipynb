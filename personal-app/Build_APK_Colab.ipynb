{
  "cells": [
    {
      "cell_type": "markdown",
      "metadata": {},
      "source": [
        "# Build Personal App APK using Google Colab\n",
        "\n",
        "This notebook will help you build an APK for your Personal app (Expense Tracker + Notes with Random Notifications).\n",
        "\n",
        "## ⚠️ IMPORTANT: Recommended Method\n",
        "\n",
        "**EAS Build is MUCH easier and more reliable!** \n",
        "\n",
        "Run these commands on your laptop instead:\n",
        "```bash\n",
        "npm install -g eas-cli\n",
        "npx eas login\n",
        "npx eas build -p android --profile preview\n",
        "```\n",
        "\n",
        "See `BUILD_APK_GUIDE.md` for full instructions.\n",
        "\n",
        "## If You Still Want to Use Colab\n",
        "\n",
        "### Prerequisites\n",
        "1. Zip your project folder (without node_modules)\n",
        "2. Upload to Google Drive\n",
        "3. Run cells in order below\n",
        "\n",
        "### Note\n",
        "This process takes 30-45 minutes and may have issues. EAS Build is recommended!\n"
      ]
    },
    {
      "cell_type": "markdown",
      "metadata": {},
      "source": [
        "## Step 1: Mount Google Drive\n"
      ]
    },
    {
      "cell_type": "code",
      "execution_count": null,
      "metadata": {},
      "outputs": [],
      "source": [
        "from google.colab import drive\n",
        "drive.mount('/content/drive')\n"
      ]
    },
    {
      "cell_type": "markdown",
      "metadata": {},
      "source": [
        "## Step 2: Install Node.js and npm\n",
        "\n",
        "This will install Node.js which is required to build React Native apps.\n"
      ]
    },
    {
      "cell_type": "code",
      "execution_count": null,
      "metadata": {},
      "outputs": [],
      "source": [
        "# Install Node.js and npm\n",
        "!curl -fsSL https://deb.nodesource.com/setup_18.x | bash -\n",
        "!apt-get install -y nodejs\n",
        "\n",
        "# Verify installation\n",
        "!node --version\n",
        "!npm --version\n"
      ]
    },
    {
      "cell_type": "markdown",
      "metadata": {},
      "source": [
        "## Step 3: Install Java JDK 17\n",
        "\n",
        "Java 17 is required for Android builds with the latest React Native.\n"
      ]
    },
    {
      "cell_type": "code",
      "execution_count": null,
      "metadata": {},
      "outputs": [],
      "source": [
        "# Install Java JDK 17\n",
        "!apt-get update\n",
        "!apt-get install -y openjdk-17-jdk\n",
        "\n",
        "# Set JAVA_HOME\n",
        "import os\n",
        "os.environ['JAVA_HOME'] = '/usr/lib/jvm/java-17-openjdk-amd64'\n",
        "os.environ['PATH'] = '/usr/lib/jvm/java-17-openjdk-amd64/bin:' + os.environ.get('PATH', '')\n",
        "\n",
        "# Verify installation\n",
        "!java -version\n",
        "print(\"\\n✅ Java 17 installed successfully!\")\n"
      ]
    },
    {
      "cell_type": "markdown",
      "metadata": {},
      "source": [
        "## Step 4: Install Android SDK\n",
        "\n",
        "This installs the Android SDK command-line tools needed to build Android apps.\n"
      ]
    },
    {
      "cell_type": "code",
      "execution_count": null,
      "metadata": {},
      "outputs": [],
      "source": [
        "# Install Android SDK Command Line Tools\n",
        "!mkdir -p /root/android-sdk/cmdline-tools\n",
        "!cd /root/android-sdk/cmdline-tools && wget https://dl.google.com/android/repository/commandlinetools-linux-9477386_latest.zip\n",
        "!cd /root/android-sdk/cmdline-tools && unzip -q commandlinetools-linux-9477386_latest.zip\n",
        "!cd /root/android-sdk/cmdline-tools && mv cmdline-tools latest\n",
        "\n",
        "# Set Android SDK environment variables\n",
        "import os\n",
        "os.environ['ANDROID_SDK_ROOT'] = '/root/android-sdk'\n",
        "os.environ['ANDROID_HOME'] = '/root/android-sdk'\n",
        "os.environ['PATH'] = os.environ['PATH'] + ':/root/android-sdk/cmdline-tools/latest/bin:/root/android-sdk/platform-tools'\n",
        "\n",
        "print(\"Android SDK installed\")\n"
      ]
    },
    {
      "cell_type": "markdown",
      "metadata": {},
      "source": [
        "## Step 5: Install Android SDK Packages\n",
        "\n",
        "Accept licenses and install required Android packages.\n"
      ]
    },
    {
      "cell_type": "markdown",
      "metadata": {},
      "source": [
        "## Step 6: Install Additional Build Tools\n",
        "\n",
        "Install Ninja and CMake which are required for building native modules.\n"
      ]
    },
    {
      "cell_type": "code",
      "execution_count": null,
      "metadata": {},
      "outputs": [],
      "source": [
        "# Install Ninja build tool\n",
        "!apt-get install -y ninja-build cmake\n",
        "\n",
        "# Verify installation\n",
        "!ninja --version\n",
        "!cmake --version\n",
        "\n",
        "print(\"\\n✅ Build tools installed successfully!\")\n"
      ]
    },
    {
      "cell_type": "code",
      "execution_count": null,
      "metadata": {},
      "outputs": [],
      "source": [
        "# Accept Android SDK licenses and install required packages\n",
        "!yes | /root/android-sdk/cmdline-tools/latest/bin/sdkmanager --licenses\n",
        "!/root/android-sdk/cmdline-tools/latest/bin/sdkmanager \"platform-tools\" \"platforms;android-33\" \"build-tools;33.0.0\"\n",
        "\n",
        "print(\"Android SDK packages installed\")\n"
      ]
    },
    {
      "cell_type": "markdown",
      "metadata": {},
      "source": [
        "## Step 6: Extract Your Project\n",
        "\n",
        "**Important**: Update the path below to point to your zipped project file in Google Drive\n"
      ]
    },
    {
      "cell_type": "code",
      "execution_count": null,
      "metadata": {},
      "outputs": [],
      "source": [
        "# Update this path to your project zip file\n",
        "PROJECT_ZIP_PATH = '/content/drive/MyDrive/personal-app.zip'\n",
        "\n",
        "# Extract project\n",
        "!unzip -q $PROJECT_ZIP_PATH -d /content/\n",
        "!ls /content/\n"
      ]
    },
    {
      "cell_type": "markdown",
      "metadata": {},
      "source": [
        "## Step 7: Install Project Dependencies\n"
      ]
    },
    {
      "cell_type": "code",
      "execution_count": null,
      "metadata": {},
      "outputs": [],
      "source": [
        "# Update this to match your extracted folder name\n",
        "PROJECT_NAME = 'folder-name'\n",
        "%cd /content/$PROJECT_NAME\n",
        "\n",
        "!npm install\n",
        "\n",
        "print(\"\\nDependencies installed!\")\n"
      ]
    },
    {
      "cell_type": "markdown",
      "metadata": {},
      "source": [
        "## Step 8: Prebuild Android Project\n",
        "\n",
        "This converts the Expo managed project to include native Android files.\n"
      ]
    },
    {
      "cell_type": "code",
      "execution_count": null,
      "metadata": {},
      "outputs": [],
      "source": [
        "# Install Expo CLI\n",
        "!npm install -g expo-cli\n",
        "\n",
        "# Prebuild Android native project\n",
        "!npx expo prebuild --platform android\n",
        "\n",
        "print(\"\\nExpo prebuild completed!\")\n"
      ]
    },
    {
      "cell_type": "markdown",
      "metadata": {},
      "source": [
        "## Step 9: Build the APK\n",
        "\n",
        "This step builds the APK file. It takes about 10-15 minutes.\n"
      ]
    },
    {
      "cell_type": "code",
      "execution_count": null,
      "metadata": {},
      "outputs": [],
      "source": [
        "# Navigate to android directory\n",
        "%cd /content/$PROJECT_NAME/android\n",
        "\n",
        "# Build the APK\n",
        "!./gradlew assembleRelease\n",
        "\n",
        "print(\"\\n✅ APK Build Complete!\")\n",
        "print(\"\\nAPK Location: android/app/build/outputs/apk/release/app-release.apk\")\n"
      ]
    },
    {
      "cell_type": "markdown",
      "metadata": {},
      "source": [
        "## Step 10: Copy APK to Google Drive\n",
        "\n",
        "This will copy the APK to your Google Drive for easy download.\n"
      ]
    },
    {
      "cell_type": "code",
      "execution_count": null,
      "metadata": {},
      "outputs": [],
      "source": [
        "# Copy APK to Google Drive\n",
        "!cp /content/$PROJECT_NAME/android/app/build/outputs/apk/release/app-release.apk /content/drive/MyDrive/PersonalApp.apk\n",
        "\n",
        "print(\"\\n✅ APK copied to Google Drive as 'PersonalApp.apk'\")\n",
        "print(\"\\nYou can now download it from your Google Drive and install it on your Android device!\")\n"
      ]
    },
    {
      "cell_type": "markdown",
      "metadata": {},
      "source": [
        "## Alternative: Download Directly from Colab\n",
        "\n",
        "If you prefer to download directly from Colab instead of Google Drive:\n"
      ]
    },
    {
      "cell_type": "code",
      "execution_count": null,
      "metadata": {},
      "outputs": [],
      "source": [
        "from google.colab import files\n",
        "files.download('/content/' + PROJECT_NAME + '/android/app/build/outputs/apk/release/app-release.apk')\n"
      ]
    }
  ],
  "metadata": {
    "language_info": {
      "name": "python"
    }
  },
  "nbformat": 4,
  "nbformat_minor": 2
}
